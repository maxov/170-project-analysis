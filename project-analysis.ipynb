{
 "cells": [
  {
   "cell_type": "code",
   "execution_count": 1,
   "metadata": {},
   "outputs": [],
   "source": [
    "import numpy as np\n",
    "from matplotlib import pyplot as plt\n",
    "from collections import namedtuple"
   ]
  },
  {
   "cell_type": "markdown",
   "metadata": {},
   "source": [
    "# Analysis of Project\n",
    "\n",
    "Below is some classes and functions setting everything up:\n",
    "* We have a class `ProblemInstance` representing an instance of the problem\n",
    "* A function `gen_problem` that generates a problem instance\n",
    "* Two distributions, `uniform_distribution` and `bad_distribution`\n",
    "\n"
   ]
  },
  {
   "cell_type": "code",
   "execution_count": 2,
   "metadata": {},
   "outputs": [],
   "source": [
    "# an instance of a problem\n",
    "class ProblemInstance():\n",
    "    \n",
    "    def __init__(self, num_vertices, num_experts, correctness, expert_opinions, bot_locations):\n",
    "        self.num_vertices = num_vertices\n",
    "        self.num_experts = num_experts\n",
    "        self.correctness = correctness\n",
    "        self.expert_opinions = expert_opinions\n",
    "        self.bot_locations = bot_locations\n",
    "    \n",
    "    # get a random untested loc\n",
    "    def next_loc(self, tested_locs):\n",
    "        verts = set(range(0, self.num_vertices))\n",
    "        tested_locs = set(tested_locs)\n",
    "        remaining = np.asarray(list(verts - tested_locs))\n",
    "        if len(remaining) == 0:\n",
    "            raise ValueError('cannot sample next loc!')\n",
    "        return np.random.choice(remaining)\n",
    "        \n",
    "    def __repr__(self):\n",
    "        locs = ' '.join([str(x) for x in self.bot_locations])\n",
    "        ops = '\\n'\n",
    "        for i in range(self.num_experts):\n",
    "            ops += '{:.2f} '.format(self.correctness[i])\n",
    "            ops += ''.join(['Y' if x else 'N' for x in self.expert_opinions[i]])\n",
    "            ops += '\\n'\n",
    "        s = 'PI({}, {}, [{}], {})'.format(self.num_vertices, self.num_experts, locs, ops)\n",
    "        return s\n",
    "        \n",
    "def uniform_distribution():\n",
    "    return np.random.uniform(0.5, 1)\n",
    "\n",
    "def bad_distribution():\n",
    "    return np.random.uniform(0.5, 0.8)\n",
    "\n",
    "def beta_distribution():\n",
    "    return 1 - np.random.beta(4, 2)/2\n",
    "        \n",
    "def gen_problem(n=100, k=10, student_correctness=uniform_distribution):\n",
    "    bot_locations = np.random.choice(100, 5, replace=False)\n",
    "    expert_opinions = {}\n",
    "    correctness = {}\n",
    "    for i in range(k):\n",
    "        # get student correctness\n",
    "        alpha = student_correctness()\n",
    "        correctness[i] = alpha\n",
    "        num_vertices_correct = int(alpha * n)\n",
    "        # sample the correct locations\n",
    "        correct_locations = np.random.choice(n, num_vertices_correct, replace=False)\n",
    "        \n",
    "        # build the student opinions\n",
    "        opinions = []\n",
    "        for j in range(n):\n",
    "            b = (j in bot_locations)\n",
    "            if j in correct_locations:\n",
    "                opinions.append(b)\n",
    "            else:\n",
    "                opinions.append(not b)\n",
    "        expert_opinions[i] = opinions\n",
    "        \n",
    "    return ProblemInstance(n, k, correctness, expert_opinions, bot_locations)"
   ]
  },
  {
   "cell_type": "markdown",
   "metadata": {},
   "source": [
    "# Implementing Multiplicative weights\n",
    "\n",
    "* The `most_likely` function takes an instance and the expert opinions, along with weights assigned to each experts, and sorts the untested locations in descending order of which is most likely\n",
    "* `multiplicative_weights` implements running multiplicative weights with all student opinions, and constantly picking the next most confident vertex based on weight.\n",
    "* `random_sampling` implements a strategy that looks at vertices in random order, just as a counter-balance"
   ]
  },
  {
   "cell_type": "code",
   "execution_count": 3,
   "metadata": {},
   "outputs": [],
   "source": [
    "# using the given weights vector, find the most confident locations\n",
    "def most_likely(p, weights, tested_locs):\n",
    "    confidences = []\n",
    "    for loc in range(p.num_vertices):\n",
    "        if loc not in tested_locs:\n",
    "            confidence = 0\n",
    "            for i in range(p.num_experts):\n",
    "                if p.expert_opinions[i][loc]:\n",
    "                    confidence += weights[i]\n",
    "            confidences.append((loc, confidence))\n",
    "    confidences = sorted(confidences, key= lambda x: -x[1])\n",
    "#     print(confidences)\n",
    "    return [k[0] for k in confidences]\n",
    "\n",
    "# run multiplicative weights on p with value eps, to discover bots as quickly as possible\n",
    "def multiplicative_weights(p, eps=0.5):\n",
    "    k = p.num_experts\n",
    "    discovered_locs = []\n",
    "    tested_locs = []\n",
    "    weights = np.repeat(1.0, k)\n",
    "    \n",
    "    while len(discovered_locs) < len(p.bot_locations):\n",
    "#         print(weights)\n",
    "        loc = most_likely(p, weights, tested_locs)[0]\n",
    "        has_bot = loc in p.bot_locations\n",
    "        for i in range(k):\n",
    "            if has_bot != p.expert_opinions[i][loc]:\n",
    "                # weight update!\n",
    "                weights[i] = weights[i] * (1 - eps)\n",
    "        if has_bot:\n",
    "            discovered_locs.append(loc)\n",
    "        tested_locs.append(loc)\n",
    "    \n",
    "    return len(tested_locs)\n",
    "\n",
    "# completely random sampler\n",
    "def random_sampling(p):\n",
    "    # sample a random order\n",
    "    order = np.random.choice(p.num_vertices, p.num_vertices, replace=False)\n",
    "    discovered_locs = []\n",
    "    tested_locs = 0\n",
    "    while len(discovered_locs) < len(p.bot_locations):\n",
    "        if order[tested_locs] in p.bot_locations:\n",
    "            discovered_locs.append(order[tested_locs])\n",
    "        tested_locs += 1\n",
    "    return tested_locs\n",
    "\n",
    "def majority_vote(p):\n",
    "    k = p.num_experts\n",
    "    weights = np.repeat(1.0, k)\n",
    "    order = most_likely(p, weights, [])\n",
    "    discovered_locs = []\n",
    "    tested_locs = 0\n",
    "    while len(discovered_locs) < len(p.bot_locations):\n",
    "        if order[tested_locs] in p.bot_locations:\n",
    "            discovered_locs.append(order[tested_locs])\n",
    "        tested_locs += 1\n",
    "    return tested_locs"
   ]
  },
  {
   "cell_type": "markdown",
   "metadata": {},
   "source": [
    "# Input Generation\n",
    "\n",
    "This is kept deterministic with the seed. We generate 1000 random inputs with student correctness as $\\alpha \\sim [0.5, 1]$, and then also with $\\alpha \\sim (1 - \\beta(4, 2))$ as in the project inputs."
   ]
  },
  {
   "cell_type": "code",
   "execution_count": 4,
   "metadata": {},
   "outputs": [],
   "source": [
    "def gen_problems(no=1000, correctness=uniform_distribution):\n",
    "    np.random.seed(171)\n",
    "    problems = []\n",
    "    for i in range(no):\n",
    "        problems.append(gen_problem(student_correctness=correctness))\n",
    "    return problems"
   ]
  },
  {
   "cell_type": "code",
   "execution_count": 5,
   "metadata": {},
   "outputs": [],
   "source": [
    "# WARNING: this cell takes a long time to run\n",
    "unif_dataset = gen_problems(correctness=uniform_distribution)\n",
    "beta_dataset = gen_problems(correctness=beta_distribution)"
   ]
  },
  {
   "cell_type": "markdown",
   "metadata": {},
   "source": [
    "# Evaluation/Hyperparameter Tuning\n",
    "\n",
    "Fold evaluation and hyperparameter tuning of $\\epsilon$ for MW into one. This is not strictly speaking _good practice_, but it gives us a good idea of what epsilon to use for MW.\n",
    "\n",
    "First, we evaluate using the uniform dataset."
   ]
  },
  {
   "cell_type": "code",
   "execution_count": 6,
   "metadata": {
    "scrolled": false
   },
   "outputs": [],
   "source": [
    "def eval_mw(eps, dataset):\n",
    "    N = len(dataset)\n",
    "    data = np.zeros((len(eps), N), dtype=int)\n",
    "    for i in range(N):\n",
    "        p = dataset[i]\n",
    "        for j in range(len(eps)):\n",
    "            data[j][i] = multiplicative_weights(p, eps[j])\n",
    "    return data\n",
    "\n",
    "def eval_fixed(dataset, strategy):\n",
    "    N = len(dataset)\n",
    "    data = np.zeros(N, dtype=int)\n",
    "    for i in range(N):\n",
    "        data[i] = strategy(dataset[i])\n",
    "    return data\n",
    "\n",
    "eps = [0.05, 0.1, 0.15, 0.2, 0.25, 0.3, 0.35, 0.4, 0.45, 0.5, 0.55, 0.6, 0.65, 0.7, 0.75, 0.8, 0.85, 0.9, 0.95]"
   ]
  },
  {
   "cell_type": "code",
   "execution_count": 7,
   "metadata": {},
   "outputs": [],
   "source": [
    "# WARNING: this cell takes a long time to run\n",
    "unif_dataset_mw_results = eval_mw(eps, unif_dataset)"
   ]
  },
  {
   "cell_type": "markdown",
   "metadata": {},
   "source": [
    "# Hyperparameter tuning of $\\epsilon$ for MW\n",
    "\n",
    "We first plot the expected time to find all the bots as a function of $\\epsilon$, to see what the best value is. Appears to be $\\epsilon \\approx 0.4$, although really anything that actually uses expert opinions does pretty well because the experts are so good here."
   ]
  },
  {
   "cell_type": "code",
   "execution_count": 8,
   "metadata": {},
   "outputs": [
    {
     "data": {
      "image/png": "[encoded data removed]",
      "text/plain": [
       "<Figure size 720x432 with 1 Axes>"
      ]
     },
     "metadata": {},
     "output_type": "display_data"
    }
   ],
   "source": [
    "plt.figure(figsize=(10, 6))\n",
    "plt.plot(eps, np.mean(unif_dataset_mw_results, axis=1))\n",
    "plt.show()"
   ]
  },
  {
   "cell_type": "markdown",
   "metadata": {},
   "source": [
    "And just to observe, the distribution is really concentrated around 5. Because the experts are so good, we almost immediately find the bots, because our first few choices work almost all the time and we quickly discover who isn't good, making the remaining choices almost perfect. As a sanity check, we can see that $\\epsilon=0.15$ performs marginally worse."
   ]
  },
  {
   "cell_type": "code",
   "execution_count": 9,
   "metadata": {},
   "outputs": [
    {
     "data": {
      "image/png": "[encoded data removed]",
      "text/plain": [
       "<Figure size 720x432 with 1 Axes>"
      ]
     },
     "metadata": {},
     "output_type": "display_data"
    }
   ],
   "source": [
    "plt.figure(figsize=(10, 6))\n",
    "for i in [7, 2]:\n",
    "    plt.hist(unif_dataset_mw_results[i], bins=50, label='eps={}'.format(eps[i]), alpha=0.4)\n",
    "plt.legend(loc='upper right')\n",
    "plt.show()"
   ]
  },
  {
   "cell_type": "markdown",
   "metadata": {},
   "source": [
    "# What is our beta distribution?\n",
    "\n",
    "Let's look at the distribution of correctness as it was done on the project. We can see that it's heavily biased towards incorrect students, unlike the uniform distribution. This means that in general, really good students are very rare. Let's see what happens with this dataset."
   ]
  },
  {
   "cell_type": "code",
   "execution_count": 10,
   "metadata": {},
   "outputs": [
    {
     "data": {
      "image/png": "[encoded data removed]",
      "text/plain": [
       "<Figure size 432x288 with 1 Axes>"
      ]
     },
     "metadata": {},
     "output_type": "display_data"
    }
   ],
   "source": [
    "b = 1 - (np.random.beta(4, 2, 100000))/2\n",
    "# plt.figure(figsize=(10, 6))\n",
    "plt.hist(b, bins=100)\n",
    "plt.show()"
   ]
  },
  {
   "cell_type": "code",
   "execution_count": 11,
   "metadata": {},
   "outputs": [],
   "source": [
    "# WARNING: this cell takes a REALLY LONG while to run\n",
    "beta_dataset_mw_results = eval_mw(eps, beta_dataset)"
   ]
  },
  {
   "cell_type": "code",
   "execution_count": 12,
   "metadata": {},
   "outputs": [],
   "source": [
    "beta_dataset_random_results = eval_fixed(beta_dataset, random_sampling)\n",
    "beta_dataset_mv_results = eval_fixed(beta_dataset, majority_vote)"
   ]
  },
  {
   "cell_type": "markdown",
   "metadata": {},
   "source": [
    "There's a clear winner in terms of performance with $\\epsilon \\approx 0.15$."
   ]
  },
  {
   "cell_type": "code",
   "execution_count": 13,
   "metadata": {},
   "outputs": [
    {
     "data": {
      "image/png": "[encoded data removed]",
      "text/plain": [
       "<Figure size 720x432 with 1 Axes>"
      ]
     },
     "metadata": {},
     "output_type": "display_data"
    }
   ],
   "source": [
    "plt.figure(figsize=(10, 6))\n",
    "plt.plot(eps, np.mean(beta_dataset_mw_results, axis=1), label='MW')\n",
    "plt.legend('upper right')\n",
    "plt.show()"
   ]
  },
  {
   "cell_type": "markdown",
   "metadata": {},
   "source": [
    "And as we can see, it's significantly harder to find the bots now. There's still many instances where we can do it in under 20 tries, but they are much less frequent than with the uniform distribution. As another sanity check, we compare with a completely random strategy, which ends up doing exteremely poorly (because we need to find all the bots, in expectation the maximum of their locations in a random order will be quite large). If we compare with the majority vote strategy, then we see that MW also performs better than ignoring student correctness."
   ]
  },
  {
   "cell_type": "code",
   "execution_count": 14,
   "metadata": {},
   "outputs": [
    {
     "data": {
      "image/png": "[encoded data removed]",
      "text/plain": [
       "<Figure size 720x432 with 1 Axes>"
      ]
     },
     "metadata": {},
     "output_type": "display_data"
    }
   ],
   "source": [
    "plt.figure(figsize=(10, 6))\n",
    "plt.hist(beta_dataset_random_results, bins=50, label='random'.format(eps[i]), alpha=0.3)\n",
    "plt.hist(beta_dataset_mv_results, bins=50, label='majority vote'.format(eps[i]), alpha=0.3)\n",
    "for i in [3]:\n",
    "    plt.hist(beta_dataset_mw_results[i], bins=50, label='mw eps={}'.format(eps[i]), alpha=0.3)\n",
    "plt.legend(loc='upper right')\n",
    "plt.show()"
   ]
  },
  {
   "cell_type": "markdown",
   "metadata": {},
   "source": [
    "# Comparing with a Model-Based Solver\n",
    "\n",
    "The big question, really, is how well MW performs compared to a model that does the probabalistic \"best choice\" in terms of students, if we know the distribution of student correctness as a prior."
   ]
  },
  {
   "cell_type": "code",
   "execution_count": null,
   "metadata": {},
   "outputs": [],
   "source": []
  }
 ],
 "metadata": {
  "kernelspec": {
   "display_name": "Python 3",
   "language": "python",
   "name": "python3"
  },
  "language_info": {
   "codemirror_mode": {
    "name": "ipython",
    "version": 3
   },
   "file_extension": ".py",
   "mimetype": "text/x-python",
   "name": "python",
   "nbconvert_exporter": "python",
   "pygments_lexer": "ipython3",
   "version": "3.7.3"
  }
 },
 "nbformat": 4,
 "nbformat_minor": 2
}
